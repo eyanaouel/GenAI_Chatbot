{
 "cells": [
  {
   "cell_type": "code",
   "execution_count": 7,
   "id": "c919b35c",
   "metadata": {},
   "outputs": [],
   "source": [
    "# faire !pip install groq \n",
    "import os\n",
    "from groq import Groq"
   ]
  },
  {
   "cell_type": "code",
   "execution_count": null,
   "id": "8c21b56a",
   "metadata": {},
   "outputs": [],
   "source": [
    "def llm_answer(history):\n",
    "    client = Groq(\n",
    "        api_key='api_key' ,\n",
    "    )\n",
    "    chat_completion = client.chat.completions.create(\n",
    "        messages= history,\n",
    "        model=\"llama-3.3-70b-versatile\",\n",
    "    )\n",
    "    return chat_completion.choices[0].message.content"
   ]
  },
  {
   "cell_type": "code",
   "execution_count": 11,
   "id": "f8cece5d-9a02-4e08-9c64-1ba7e9830347",
   "metadata": {},
   "outputs": [
    {
     "name": "stdout",
     "output_type": "stream",
     "text": [
      "Posez Votre Question :  Hi\n"
     ]
    },
    {
     "name": "stdout",
     "output_type": "stream",
     "text": [
      "\n",
      "AI :  It's nice to meet you. Is there something I can help you with or would you like to chat?\n"
     ]
    },
    {
     "name": "stdout",
     "output_type": "stream",
     "text": [
      "\n",
      "\n",
      "Posez Votre Question :  We are wednesday 7th Mai\n"
     ]
    },
    {
     "name": "stdout",
     "output_type": "stream",
     "text": [
      "\n",
      "AI :  It seems like you're telling me the current date. That's correct, we are indeed on Wednesday, May 7th (assuming my knowledge cutoff is up to date). How's your Wednesday going so far?\n"
     ]
    },
    {
     "name": "stdout",
     "output_type": "stream",
     "text": [
      "\n",
      "\n",
      "Posez Votre Question :  what day is it\n"
     ]
    },
    {
     "name": "stdout",
     "output_type": "stream",
     "text": [
      "\n",
      "AI :  It's Wednesday, May 7th.\n"
     ]
    },
    {
     "name": "stdout",
     "output_type": "stream",
     "text": [
      "\n",
      "\n",
      "Posez Votre Question :  /bye\n"
     ]
    },
    {
     "name": "stdout",
     "output_type": "stream",
     "text": [
      "\n",
      "AI :  BYE BYE Don't come back please \n"
     ]
    }
   ],
   "source": [
    "history = list()\n",
    "\n",
    "question = input('Posez Votre Question : ')\n",
    "\n",
    "while(question != '/bye'):\n",
    "    user_prompt = {\n",
    "         \"role\": \"user\",\n",
    "        \"content\": question,\n",
    "    }\n",
    "    history.append(user_prompt) # [user_prompt ]\n",
    "    \n",
    "    answer = llm_answer(history)\n",
    "    print(\"\\nAI : \", answer)\n",
    "    ai_prompt = {\n",
    "         \"role\": \"assistant\",\n",
    "        \"content\": answer,\n",
    "    }\n",
    "    history.append(ai_prompt)\n",
    "    question = input('\\n\\nPosez Votre Question : ')\n",
    "else:\n",
    "    print(\"\\nAI : \", \"BYE BYE \")\n"
   ]
  },
  {
   "cell_type": "code",
   "execution_count": null,
   "id": "6589e0ec-2556-40fd-a94c-9f4a4d590e56",
   "metadata": {},
   "outputs": [],
   "source": []
  }
 ],
 "metadata": {
  "kernelspec": {
   "display_name": "Python [conda env:base] *",
   "language": "python",
   "name": "conda-base-py"
  },
  "language_info": {
   "codemirror_mode": {
    "name": "ipython",
    "version": 3
   },
   "file_extension": ".py",
   "mimetype": "text/x-python",
   "name": "python",
   "nbconvert_exporter": "python",
   "pygments_lexer": "ipython3",
   "version": "3.12.7"
  }
 },
 "nbformat": 4,
 "nbformat_minor": 5
}
