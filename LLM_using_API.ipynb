{
 "cells": [
  {
   "cell_type": "code",
   "execution_count": 2,
   "id": "66f03b99",
   "metadata": {},
   "outputs": [],
   "source": [
    "import os\n",
    "\n",
    "from groq import Groq"
   ]
  },
  {
   "cell_type": "code",
   "execution_count": null,
   "id": "372d6352",
   "metadata": {},
   "outputs": [],
   "source": [
    "def llm_answer(history):\n",
    "    client = Groq( api_key='api-key')\n",
    "    chat_completion = client.chat.completions.create(\n",
    "        messages=history,\n",
    "        model=\"llama-3.3-70b-versatile\",\n",
    "    )\n",
    "    return chat_completion.choices[0].message.content"
   ]
  },
  {
   "cell_type": "code",
   "execution_count": 4,
   "id": "2428d928",
   "metadata": {},
   "outputs": [
    {
     "name": "stdout",
     "output_type": "stream",
     "text": [
      "Ask me something : \n",
      "Assistant :  It seems like you didn't provide any question or prompt. Could you please provide more details or clarify what you need help with? I'll do my best to assist you.\n",
      "\n",
      "Ask me something : we are a data sciences class in tekup univ give us advices\n",
      "Assistant :  As a data science class at Tekup University, you're likely to be excited about the world of data and its applications. Here are some advice and tips that can help you navigate your studies and future career:\n",
      "\n",
      "**Academic Tips**\n",
      "\n",
      "1. **Master the fundamentals**: Ensure you have a solid grasp of statistical concepts, data structures, and programming languages like Python, R, or SQL.\n",
      "2. **Practice with real-world datasets**: Apply your knowledge to real-world problems and datasets to gain practical experience.\n",
      "3. **Stay up-to-date with industry trends**: Follow data science blogs, podcasts, and online courses to stay current with the latest developments.\n",
      "4. **Collaborate with peers**: Work on projects with your classmates to develop teamwork and communication skills.\n",
      "5. **Seek help when needed**: Don't hesitate to ask your instructors or peers for help when you're struggling with a concept or project.\n",
      "\n",
      "**Career Development**\n",
      "\n",
      "1. **Build a strong portfolio**: Create a portfolio that showcases your projects and achievements in data science.\n",
      "2. **Network with professionals**: Attend data science events, meetups, and conferences to connect with professionals in the field.\n",
      "3. **Develop soft skills**: Focus on developing essential soft skills like communication, visualization, and storytelling to effectively convey insights to non-technical stakeholders.\n",
      "4. **Consider specialized certifications**: Look into certifications like Certified Data Scientist (CDS) or Certified Analytics Professional (CAP) to demonstrate your expertise.\n",
      "5. **Stay curious and keep learning**: The field of data science is rapidly evolving, so commit to lifelong learning and continuous professional development.\n",
      "\n",
      "**Project-Based Learning**\n",
      "\n",
      "1. **Choose projects that interest you**: Select projects that align with your passions and interests to maintain motivation and engagement.\n",
      "2. **Start with simple projects**: Begin with smaller projects and gradually move to more complex ones as your skills improve.\n",
      "3. **Use public datasets**: Utilize publicly available datasets to work on projects that have real-world applications.\n",
      "4. **Document your process**: Keep a record of your project development, including data cleaning, modeling, and insights.\n",
      "5. **Present your findings**: Practice presenting your project results to your peers, instructors, or even at data science events.\n",
      "\n",
      "**Data Science Tools and Technologies**\n",
      "\n",
      "1. **Familiarize yourself with popular libraries**: Learn popular data science libraries like Pandas, NumPy, Scikit-learn, and TensorFlow.\n",
      "2. **Explore data visualization tools**: Master data visualization tools like Matplotlib, Seaborn, Plotly, or Tableau.\n",
      "3. **Get comfortable with databases**: Learn to work with databases like MySQL, PostgreSQL, or MongoDB.\n",
      "4. **Cloud platforms**: Explore cloud platforms like AWS, Google Cloud, or Azure for data storage, processing, and deployment.\n",
      "5. **Stay up-to-date with new tools and technologies**: Continuously learn about new tools, frameworks, and technologies emerging in the data science landscape.\n",
      "\n",
      "**Tekup University Specific**\n",
      "\n",
      "1. **Take advantage of university resources**: Leverage Tekup University's resources, such as faculty expertise, research centers, and industry partnerships.\n",
      "2. **Participate in data science competitions**: Join data science competitions, hackathons, or challenges to apply your skills and learn from others.\n",
      "3. **Connect with alumni**: Reach out to Tekup University alumni in the data science field to learn about their experiences and gain insights.\n",
      "4. **Join data science clubs or groups**: Participate in data science clubs, groups, or meetups within the university to network with like-minded individuals.\n",
      "5. **Showcase your work**: Share your projects and achievements with the Tekup University community to demonstrate your skills and contributions.\n",
      "\n",
      "I hope these tips and advice help you succeed in your data science journey at Tekup University!\n",
      "\n",
      "Ask me something : Who are we and where are we located\n",
      "Assistant :  You are a data sciences class at Tekup University, which is a private university located in Tunis, Tunisia. Tunis is the capital city of Tunisia, a country in the Maghreb region of North Africa.\n",
      "\n",
      "As a student at Tekup University, you are part of a vibrant academic community that is focused on providing high-quality education in various fields, including data science. The university is known for its strong programs in science, technology, engineering, and mathematics (STEM) fields, and its faculty and researchers are actively involved in various projects and collaborations with industry partners.\n",
      "\n",
      "Tunisia, as a country, has a growing economy and a strong focus on education, research, and innovation. The country is home to a number of universities, research institutions, and companies that are working in the field of data science and related areas.\n",
      "\n",
      "As a data science class at Tekup University, you have access to a range of resources, including state-of-the-art facilities, experienced faculty, and opportunities for collaboration and networking with professionals in the field. You are well-positioned to take advantage of the growing demand for data science skills in Tunisia and beyond, and to make a positive impact in your chosen field.\n",
      "\n",
      "Ask me something : /bye\n"
     ]
    }
   ],
   "source": [
    "history = list()\n",
    "\n",
    "question = input('Ask me something : ')\n",
    "\n",
    "while (question!='/bye'):\n",
    "    \n",
    "    user_prompt = {\n",
    "        'role': 'user' ,\n",
    "        'content': question ,\n",
    "    }\n",
    "    history.append(user_prompt)\n",
    "    \n",
    "    answer = llm_answer(history)\n",
    "    \n",
    "    assistant_prompt = {\n",
    "        'role': 'assistant' ,\n",
    "        'content': answer ,\n",
    "    }\n",
    "    history.append(assistant_prompt)\n",
    "    \n",
    "    print('Assistant : ', answer)\n",
    "    question = input('\\nAsk me something : ')"
   ]
  },
  {
   "cell_type": "code",
   "execution_count": null,
   "id": "ec9cc9d1",
   "metadata": {},
   "outputs": [],
   "source": []
  },
  {
   "cell_type": "code",
   "execution_count": null,
   "id": "729b155e",
   "metadata": {},
   "outputs": [],
   "source": []
  },
  {
   "cell_type": "code",
   "execution_count": null,
   "id": "382e6617",
   "metadata": {},
   "outputs": [],
   "source": []
  }
 ],
 "metadata": {
  "kernelspec": {
   "display_name": "Python [conda env:base] *",
   "language": "python",
   "name": "conda-base-py"
  },
  "language_info": {
   "codemirror_mode": {
    "name": "ipython",
    "version": 3
   },
   "file_extension": ".py",
   "mimetype": "text/x-python",
   "name": "python",
   "nbconvert_exporter": "python",
   "pygments_lexer": "ipython3",
   "version": "3.12.7"
  }
 },
 "nbformat": 4,
 "nbformat_minor": 5
}
